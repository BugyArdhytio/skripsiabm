{
 "cells": [
  {
   "cell_type": "markdown",
   "metadata": {},
   "source": [
    "# Tutorial Brief"
   ]
  },
  {
   "cell_type": "markdown",
   "metadata": {},
   "source": [
    "We will be using tweepy library to perform data mine on twitter.\n",
    "\n",
    "##Twitter API\n",
    "\n",
    "https://apps.twitter.com/\n",
    "\n",
    "###Topics:\n",
    "\n",
    "**Topic 1**: Register You App.\n",
    "\n",
    "**Topic 2**: Using REST API\n",
    "\n",
    "**Video Tutorial**:\n",
    "\n",
    "https://www.youtube.com/user/roshanRush"
   ]
  },
  {
   "cell_type": "markdown",
   "metadata": {},
   "source": [
    "# Import the library"
   ]
  },
  {
   "cell_type": "code",
   "execution_count": 1,
   "metadata": {
    "collapsed": false
   },
   "outputs": [],
   "source": [
    "import tweepy\n",
    "import pandas as pd\n",
    "import matplotlib.pyplot as plt\n",
    "import numpy as np\n",
    "import sys\n",
    "\n",
    "pd.options.display.max_columns = 50\n",
    "pd.options.display.max_rows= 50\n",
    "pd.options.display.width= 120\n",
    "\n",
    "reload(sys)\n",
    "sys.setdefaultencoding('utf-8')"
   ]
  },
  {
   "cell_type": "markdown",
   "metadata": {},
   "source": [
    "# Authentication"
   ]
  },
  {
   "cell_type": "code",
   "execution_count": 2,
   "metadata": {
    "collapsed": false
   },
   "outputs": [],
   "source": [
    "consumer_key = \"GG3j4A0jpSGXBt9D7aM4QzdBV\" # Use your own key. To get a key https://apps.twitter.com/\n",
    "consumer_secret = \"SsYRzE2on0xLWwPZ70Mi7YUabcaBaoohUFYlyEVjiw7mF5cFGB\"\n",
    "\n",
    "auth = tweepy.OAuthHandler(consumer_key=consumer_key, consumer_secret=consumer_secret)\n",
    "\n",
    "api = tweepy.API(auth)"
   ]
  },
  {
   "cell_type": "markdown",
   "metadata": {},
   "source": [
    "# REST API"
   ]
  },
  {
   "cell_type": "markdown",
   "metadata": {},
   "source": [
    "## Searching for Tweets"
   ]
  },
  {
   "cell_type": "markdown",
   "metadata": {},
   "source": [
    "###`API.search(q[, lang][, locale][, rpp][, page][, since_id][, geocode][, show_user])`\n",
    "```\n",
    "\n",
    "    Returns tweets that match a specified query.\n",
    "    Parameters:\t\n",
    "\n",
    "        q – the search query string\n",
    "        lang – Restricts tweets to the given language, given by an ISO 639-1 code.\n",
    "        locale – Specify the language of the query you are sending. This is intended for language-specific clients and the default should work in the majority of cases.\n",
    "        rpp – The number of tweets to return per page, up to a max of 100.\n",
    "        page – The page number (starting at 1) to return, up to a max of roughly 1500 results (based on rpp * page.\n",
    "        geocode – Returns tweets by users located within a given radius of the given latitude/longitude. The location is preferentially taking from the Geotagging API, but will fall back to their Twitter profile. The parameter value is specified by “latitide,longitude,radius”, where radius units must be specified as either “mi” (miles) or “km” (kilometers). Note that you cannot use the near operator via the API to geocode arbitrary locations; however you can use this geocode parameter to search near geocodes directly.\n",
    "        show_user – When true, prepends “<user>:” to the beginning of the tweet. This is useful for readers that do not display Atom’s author field. The default is false.\n",
    "\n",
    "    Return type:\t\n",
    "\n",
    "    list of SearchResult objects\n",
    "```"
   ]
  },
  {
   "cell_type": "code",
   "execution_count": 4,
   "metadata": {
    "collapsed": false
   },
   "outputs": [],
   "source": [
    "results = api.search(geocode=\"-6.20,106.83,20km\")"
   ]
  },
  {
   "cell_type": "markdown",
   "metadata": {},
   "source": [
    "### Inspecting Results"
   ]
  },
  {
   "cell_type": "code",
   "execution_count": 5,
   "metadata": {
    "collapsed": false
   },
   "outputs": [
    {
     "data": {
      "text/plain": [
       "15"
      ]
     },
     "execution_count": 5,
     "metadata": {},
     "output_type": "execute_result"
    }
   ],
   "source": [
    "len(results)"
   ]
  },
  {
   "cell_type": "code",
   "execution_count": 6,
   "metadata": {
    "collapsed": false
   },
   "outputs": [
    {
     "name": "stdout",
     "output_type": "stream",
     "text": [
      "@eryghifar - ERW™ (2016-11-09 03:53:00)\n",
      "Seru nih Trump menang.\n"
     ]
    }
   ],
   "source": [
    "def print_tweet(tweet):\n",
    "    print \"@%s - %s (%s)\" % (tweet.user.screen_name, tweet.user.name, tweet.created_at)\n",
    "    print tweet.text\n",
    "\n",
    "tweet=results[1]\n",
    "print_tweet(tweet)"
   ]
  },
  {
   "cell_type": "markdown",
   "metadata": {},
   "source": [
    "### Inspecting a Status Object"
   ]
  },
  {
   "cell_type": "code",
   "execution_count": 16,
   "metadata": {
    "collapsed": false
   },
   "outputs": [
    {
     "ename": "IndexError",
     "evalue": "list index out of range",
     "output_type": "error",
     "traceback": [
      "\u001b[0;31m---------------------------------------------------------------------------\u001b[0m",
      "\u001b[0;31mIndexError\u001b[0m                                Traceback (most recent call last)",
      "\u001b[0;32m<ipython-input-16-fe6e3ed3df5a>\u001b[0m in \u001b[0;36m<module>\u001b[0;34m()\u001b[0m\n\u001b[0;32m----> 1\u001b[0;31m \u001b[0mtweet\u001b[0m\u001b[0;34m=\u001b[0m\u001b[0mresults\u001b[0m\u001b[0;34m[\u001b[0m\u001b[0;36m16\u001b[0m\u001b[0;34m]\u001b[0m\u001b[0;34m\u001b[0m\u001b[0m\n\u001b[0m\u001b[1;32m      2\u001b[0m \u001b[0;34m\u001b[0m\u001b[0m\n\u001b[1;32m      3\u001b[0m \u001b[0;32mfor\u001b[0m \u001b[0mparam\u001b[0m \u001b[0;32min\u001b[0m \u001b[0mdir\u001b[0m\u001b[0;34m(\u001b[0m\u001b[0mtweet\u001b[0m\u001b[0;34m)\u001b[0m\u001b[0;34m:\u001b[0m\u001b[0;34m\u001b[0m\u001b[0m\n\u001b[1;32m      4\u001b[0m     \u001b[0;32mif\u001b[0m \u001b[0;32mnot\u001b[0m \u001b[0mparam\u001b[0m\u001b[0;34m.\u001b[0m\u001b[0mstartswith\u001b[0m\u001b[0;34m(\u001b[0m\u001b[0;34m\"_\"\u001b[0m\u001b[0;34m)\u001b[0m\u001b[0;34m:\u001b[0m\u001b[0;34m\u001b[0m\u001b[0m\n\u001b[1;32m      5\u001b[0m         \u001b[0;32mprint\u001b[0m \u001b[0;34m\"%s : %s\"\u001b[0m \u001b[0;34m%\u001b[0m \u001b[0;34m(\u001b[0m\u001b[0mparam\u001b[0m\u001b[0;34m,\u001b[0m \u001b[0meval\u001b[0m\u001b[0;34m(\u001b[0m\u001b[0;34m\"tweet.\"\u001b[0m \u001b[0;34m+\u001b[0m \u001b[0mparam\u001b[0m\u001b[0;34m)\u001b[0m\u001b[0;34m)\u001b[0m\u001b[0;34m\u001b[0m\u001b[0m\n",
      "\u001b[0;31mIndexError\u001b[0m: list index out of range"
     ]
    }
   ],
   "source": [
    "tweet=results[16]\n",
    "\n",
    "for param in dir(tweet):\n",
    "    if not param.startswith(\"_\"):\n",
    "        print \"%s : %s\" % (param, eval(\"tweet.\" + param))"
   ]
  },
  {
   "cell_type": "markdown",
   "metadata": {},
   "source": [
    "### Inspecting a User Object"
   ]
  },
  {
   "cell_type": "code",
   "execution_count": 17,
   "metadata": {
    "collapsed": false
   },
   "outputs": [
    {
     "ename": "SyntaxError",
     "evalue": "invalid syntax (<ipython-input-17-3f1a70096d71>, line 1)",
     "output_type": "error",
     "traceback": [
      "\u001b[0;36m  File \u001b[0;32m\"<ipython-input-17-3f1a70096d71>\"\u001b[0;36m, line \u001b[0;32m1\u001b[0m\n\u001b[0;31m    user=tweet.author.\u001b[0m\n\u001b[0m                      ^\u001b[0m\n\u001b[0;31mSyntaxError\u001b[0m\u001b[0;31m:\u001b[0m invalid syntax\n"
     ]
    }
   ],
   "source": [
    "user=tweet.author.\n",
    "\n",
    "for param in dir(user):\n",
    "    if not param.startswith(\"_\"):\n",
    "        print \"%s : %s\" % (param, eval(\"user.\" + param))"
   ]
  },
  {
   "cell_type": "markdown",
   "metadata": {},
   "source": [
    "### Using Cursor for Pagination"
   ]
  },
  {
   "cell_type": "markdown",
   "metadata": {},
   "source": [
    "For data mining you will be dealing with a large amount of results. Cursor is a simple way to handle interation and results pages."
   ]
  },
  {
   "cell_type": "code",
   "execution_count": 25,
   "metadata": {
    "collapsed": false
   },
   "outputs": [],
   "source": [
    "results = []\n",
    "for tweet in tweepy.Cursor(api.search, geocode=\"-6.205537,106.83942540285217,20km\").items(2500):\n",
    "    results.append(tweet)\n",
    "\n",
    "print len(results)"
   ]
  },
  {
   "cell_type": "markdown",
   "metadata": {},
   "source": [
    "### Store Results in a Data Frame"
   ]
  },
  {
   "cell_type": "code",
   "execution_count": 22,
   "metadata": {
    "collapsed": false
   },
   "outputs": [],
   "source": [
    "def process_results(results):\n",
    "    id_list = [tweet.id for tweet in results]\n",
    "    data_set = pd.DataFrame(id_list, columns=[\"id\"])\n",
    "\n",
    "    # Processing Tweet Data\n",
    "\n",
    "    data_set[\"text\"] = [tweet.text for tweet in results]\n",
    "    data_set[\"created_at\"] = [tweet.created_at for tweet in results]\n",
    "\n",
    "    # Processing User Data\n",
    "    data_set[\"user_name\"] = [tweet.author.name for tweet in results]\n",
    "    data_set[\"user_location\"] = [tweet.author.location for tweet in results]\n",
    "    data_set[\"location\"] = [tweet.coordinates for tweet in results]\n",
    "\n",
    "\n",
    "    return data_set\n",
    "data_set = process_results(results)"
   ]
  },
  {
   "cell_type": "markdown",
   "metadata": {},
   "source": [
    "## Looking at the Data"
   ]
  },
  {
   "cell_type": "code",
   "execution_count": 24,
   "metadata": {
    "collapsed": false
   },
   "outputs": [],
   "source": [
    "data_set.to_csv(\"14nov17-17.30.csv\")"
   ]
  },
  {
   "cell_type": "code",
   "execution_count": 23,
   "metadata": {
    "collapsed": false
   },
   "outputs": [
    {
     "data": {
      "text/html": [
       "<div>\n",
       "<table border=\"1\" class=\"dataframe\">\n",
       "  <thead>\n",
       "    <tr style=\"text-align: right;\">\n",
       "      <th></th>\n",
       "      <th>id</th>\n",
       "      <th>text</th>\n",
       "      <th>created_at</th>\n",
       "      <th>user_name</th>\n",
       "      <th>user_location</th>\n",
       "      <th>location</th>\n",
       "    </tr>\n",
       "  </thead>\n",
       "  <tbody>\n",
       "    <tr>\n",
       "      <th>0</th>\n",
       "      <td>930380947488358400</td>\n",
       "      <td>@ghalyyusral Selamat sore Bpk Ghaly, utk kartu...</td>\n",
       "      <td>2017-11-14 10:24:38</td>\n",
       "      <td>bank mandiri</td>\n",
       "      <td>Jakarta</td>\n",
       "      <td>None</td>\n",
       "    </tr>\n",
       "    <tr>\n",
       "      <th>1</th>\n",
       "      <td>930380946431393792</td>\n",
       "      <td>Join Our First Seminar Marketing \"Strategi Mem...</td>\n",
       "      <td>2017-11-14 10:24:37</td>\n",
       "      <td>ASIA ONE EDU PRATAMA</td>\n",
       "      <td>Alam Sutera Tangerang</td>\n",
       "      <td>None</td>\n",
       "    </tr>\n",
       "    <tr>\n",
       "      <th>2</th>\n",
       "      <td>930380945269473280</td>\n",
       "      <td>@AtrupAkidna Ah lemah ga mention langsung leq</td>\n",
       "      <td>2017-11-14 10:24:37</td>\n",
       "      <td>Fakhri Nurfaiz</td>\n",
       "      <td>Jakarta Pusat, DKI Jakarta</td>\n",
       "      <td>None</td>\n",
       "    </tr>\n",
       "    <tr>\n",
       "      <th>3</th>\n",
       "      <td>930380943965196288</td>\n",
       "      <td>Toyota : Mesin Biasa Akan Musnah di 2050 https...</td>\n",
       "      <td>2017-11-14 10:24:37</td>\n",
       "      <td>AutonetMagz ID</td>\n",
       "      <td>Jakarta - Indonesia</td>\n",
       "      <td>None</td>\n",
       "    </tr>\n",
       "    <tr>\n",
       "      <th>4</th>\n",
       "      <td>930380942199332865</td>\n",
       "      <td>https://t.co/Rg7T6WWTDb</td>\n",
       "      <td>2017-11-14 10:24:36</td>\n",
       "      <td>haru</td>\n",
       "      <td>Jakarta Utara, DKI Jakarta</td>\n",
       "      <td>None</td>\n",
       "    </tr>\n",
       "  </tbody>\n",
       "</table>\n",
       "</div>"
      ],
      "text/plain": [
       "                   id                                               text          created_at             user_name  \\\n",
       "0  930380947488358400  @ghalyyusral Selamat sore Bpk Ghaly, utk kartu... 2017-11-14 10:24:38          bank mandiri   \n",
       "1  930380946431393792  Join Our First Seminar Marketing \"Strategi Mem... 2017-11-14 10:24:37  ASIA ONE EDU PRATAMA   \n",
       "2  930380945269473280      @AtrupAkidna Ah lemah ga mention langsung leq 2017-11-14 10:24:37        Fakhri Nurfaiz   \n",
       "3  930380943965196288  Toyota : Mesin Biasa Akan Musnah di 2050 https... 2017-11-14 10:24:37        AutonetMagz ID   \n",
       "4  930380942199332865                            https://t.co/Rg7T6WWTDb 2017-11-14 10:24:36                  haru   \n",
       "\n",
       "                user_location location  \n",
       "0                     Jakarta     None  \n",
       "1       Alam Sutera Tangerang     None  \n",
       "2  Jakarta Pusat, DKI Jakarta     None  \n",
       "3         Jakarta - Indonesia     None  \n",
       "4  Jakarta Utara, DKI Jakarta     None  "
      ]
     },
     "execution_count": 23,
     "metadata": {},
     "output_type": "execute_result"
    }
   ],
   "source": [
    "data_set.head(5)"
   ]
  },
  {
   "cell_type": "code",
   "execution_count": 7,
   "metadata": {
    "collapsed": false
   },
   "outputs": [
    {
     "data": {
      "text/html": [
       "<div>\n",
       "<table border=\"1\" class=\"dataframe\">\n",
       "  <thead>\n",
       "    <tr style=\"text-align: right;\">\n",
       "      <th></th>\n",
       "      <th>id</th>\n",
       "      <th>text</th>\n",
       "      <th>created_at</th>\n",
       "      <th>user_name</th>\n",
       "      <th>user_location</th>\n",
       "      <th>location</th>\n",
       "    </tr>\n",
       "  </thead>\n",
       "  <tbody>\n",
       "    <tr>\n",
       "      <th>1621</th>\n",
       "      <td>798325603111796737</td>\n",
       "      <td>@VR46Live @matoxley jadi gantinya mantan orang...</td>\n",
       "      <td>2016-11-15 00:43:50</td>\n",
       "      <td>Captain Araide</td>\n",
       "      <td>Jakarta</td>\n",
       "      <td>None</td>\n",
       "    </tr>\n",
       "    <tr>\n",
       "      <th>1622</th>\n",
       "      <td>798325597508206592</td>\n",
       "      <td>Gina https://t.co/Q97Wrmjapr</td>\n",
       "      <td>2016-11-15 00:43:49</td>\n",
       "      <td>NadiaWu</td>\n",
       "      <td>Jakarta</td>\n",
       "      <td>None</td>\n",
       "    </tr>\n",
       "    <tr>\n",
       "      <th>1623</th>\n",
       "      <td>798325596648443905</td>\n",
       "      <td>@ANGELVIP__ makasih bebeb💋💋</td>\n",
       "      <td>2016-11-15 00:43:49</td>\n",
       "      <td>adilaroka navodka</td>\n",
       "      <td>DKI Jakarta, Indonesia</td>\n",
       "      <td>None</td>\n",
       "    </tr>\n",
       "    <tr>\n",
       "      <th>1624</th>\n",
       "      <td>798325595234910208</td>\n",
       "      <td>RT @edwardsuhadi: Mereka yg menyebarkan kebenc...</td>\n",
       "      <td>2016-11-15 00:43:48</td>\n",
       "      <td>Naomi Tobing</td>\n",
       "      <td>Jakarta</td>\n",
       "      <td>None</td>\n",
       "    </tr>\n",
       "    <tr>\n",
       "      <th>1625</th>\n",
       "      <td>798325594215751680</td>\n",
       "      <td>RT @pojokgusdur: Dalam perang, bahkan Rasul SA...</td>\n",
       "      <td>2016-11-15 00:43:48</td>\n",
       "      <td>Kartika Tusti N</td>\n",
       "      <td>Tangerang-Balikpapan</td>\n",
       "      <td>None</td>\n",
       "    </tr>\n",
       "  </tbody>\n",
       "</table>\n",
       "</div>"
      ],
      "text/plain": [
       "                      id                                               text          created_at          user_name  \\\n",
       "1621  798325603111796737  @VR46Live @matoxley jadi gantinya mantan orang... 2016-11-15 00:43:50     Captain Araide   \n",
       "1622  798325597508206592                       Gina https://t.co/Q97Wrmjapr 2016-11-15 00:43:49            NadiaWu   \n",
       "1623  798325596648443905                        @ANGELVIP__ makasih bebeb💋💋 2016-11-15 00:43:49  adilaroka navodka   \n",
       "1624  798325595234910208  RT @edwardsuhadi: Mereka yg menyebarkan kebenc... 2016-11-15 00:43:48       Naomi Tobing   \n",
       "1625  798325594215751680  RT @pojokgusdur: Dalam perang, bahkan Rasul SA... 2016-11-15 00:43:48    Kartika Tusti N   \n",
       "\n",
       "               user_location location  \n",
       "1621                 Jakarta     None  \n",
       "1622                 Jakarta     None  \n",
       "1623  DKI Jakarta, Indonesia     None  \n",
       "1624                 Jakarta     None  \n",
       "1625    Tangerang-Balikpapan     None  "
      ]
     },
     "execution_count": 7,
     "metadata": {},
     "output_type": "execute_result"
    }
   ],
   "source": [
    "data_set.tail(5)"
   ]
  },
  {
   "cell_type": "markdown",
   "metadata": {},
   "source": [
    "# Visualizing Results"
   ]
  },
  {
   "cell_type": "code",
   "execution_count": 9,
   "metadata": {
    "collapsed": false
   },
   "outputs": [
    {
     "data": {
      "image/png": "[encoded data removed]",
      "text/plain": [
       "<matplotlib.figure.Figure at 0x7fde455dab10>"
      ]
     },
     "metadata": {},
     "output_type": "display_data"
    }
   ],
   "source": [
    "sources = data_set[\"source\"].value_counts()[:5][::-1]\n",
    "\n",
    "plt.barh(xrange(len(sources)), sources.values)\n",
    "plt.yticks(np.arange(len(sources)) + 0.4, sources.index)\n",
    "plt.show()"
   ]
  },
  {
   "cell_type": "code",
   "execution_count": null,
   "metadata": {
    "collapsed": true
   },
   "outputs": [],
   "source": [
    "import csv\n",
    "\n",
    "with open(\"tweet_export.csv\", \"wb\") as csvfile:\n",
    "    fieldnames = [\"username\", \"tweet_id\", \"text\", \"created_at\", \"location\"]\n",
    "    writer = csv.DictWriter(csvfile, delimiter=',', quotechar='\"', quoting=csv.QUOTE_MINIMAL, fieldnames=fieldnames)\n",
    "    writer.writeheader()\n",
    "    for tweet in results:\n",
    "        data_set[\"username\"] = tweet.user.screen_name\n",
    "        data_set[\"tweet_id\"] = tweet.id\n",
    "        data[\"text\"] = tweet.text.encode('utf-8')\n",
    "        data[\"created_at\"] = str(tweet.created_at)\n",
    "        data[\"location\"] = tweet.coordinates\n",
    "        writer.writerow(data)"
   ]
  }
 ],
 "metadata": {
  "kernelspec": {
   "display_name": "Python 2",
   "language": "python",
   "name": "python2"
  },
  "language_info": {
   "codemirror_mode": {
    "name": "ipython",
    "version": 2
   },
   "file_extension": ".py",
   "mimetype": "text/x-python",
   "name": "python",
   "nbconvert_exporter": "python",
   "pygments_lexer": "ipython2",
   "version": "2.7.12"
  }
 },
 "nbformat": 4,
 "nbformat_minor": 0
}
